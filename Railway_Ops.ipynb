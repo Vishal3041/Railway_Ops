{
 "cells": [
  {
   "cell_type": "code",
   "execution_count": 2,
   "id": "ce47c6f3-d8e0-47a9-86f3-3abd5a8570f0",
   "metadata": {},
   "outputs": [
    {
     "name": "stdout",
     "output_type": "stream",
     "text": [
      "Requirement already satisfied: snowflake-connector-python in /opt/homebrew/lib/python3.11/site-packages (3.5.0)\n",
      "Requirement already satisfied: asn1crypto<2.0.0,>0.24.0 in /opt/homebrew/lib/python3.11/site-packages (from snowflake-connector-python) (1.5.1)\n",
      "Requirement already satisfied: cffi<2.0.0,>=1.9 in /opt/homebrew/lib/python3.11/site-packages (from snowflake-connector-python) (1.16.0)\n",
      "Requirement already satisfied: cryptography<42.0.0,>=3.1.0 in /opt/homebrew/lib/python3.11/site-packages (from snowflake-connector-python) (41.0.5)\n",
      "Requirement already satisfied: pyOpenSSL<24.0.0,>=16.2.0 in /opt/homebrew/lib/python3.11/site-packages (from snowflake-connector-python) (23.3.0)\n",
      "Requirement already satisfied: pyjwt<3.0.0 in /opt/homebrew/lib/python3.11/site-packages (from snowflake-connector-python) (2.8.0)\n",
      "Requirement already satisfied: pytz in /opt/homebrew/lib/python3.11/site-packages (from snowflake-connector-python) (2023.3)\n",
      "Requirement already satisfied: requests<3.0.0 in /opt/homebrew/lib/python3.11/site-packages (from snowflake-connector-python) (2.31.0)\n",
      "Requirement already satisfied: packaging in /opt/homebrew/lib/python3.11/site-packages (from snowflake-connector-python) (23.1)\n",
      "Requirement already satisfied: charset-normalizer<4,>=2 in /opt/homebrew/lib/python3.11/site-packages (from snowflake-connector-python) (3.3.2)\n",
      "Requirement already satisfied: idna<4,>=2.5 in /opt/homebrew/lib/python3.11/site-packages (from snowflake-connector-python) (3.4)\n",
      "Requirement already satisfied: urllib3<2.0.0,>=1.21.1 in /opt/homebrew/lib/python3.11/site-packages (from snowflake-connector-python) (1.26.18)\n",
      "Requirement already satisfied: certifi>=2017.4.17 in /opt/homebrew/lib/python3.11/site-packages (from snowflake-connector-python) (2023.7.22)\n",
      "Requirement already satisfied: typing-extensions<5,>=4.3 in /opt/homebrew/lib/python3.11/site-packages (from snowflake-connector-python) (4.8.0)\n",
      "Requirement already satisfied: filelock<4,>=3.5 in /opt/homebrew/lib/python3.11/site-packages (from snowflake-connector-python) (3.13.1)\n",
      "Requirement already satisfied: sortedcontainers>=2.4.0 in /opt/homebrew/lib/python3.11/site-packages (from snowflake-connector-python) (2.4.0)\n",
      "Requirement already satisfied: platformdirs<4.0.0,>=2.6.0 in /opt/homebrew/lib/python3.11/site-packages (from snowflake-connector-python) (3.11.0)\n",
      "Requirement already satisfied: tomlkit in /opt/homebrew/lib/python3.11/site-packages (from snowflake-connector-python) (0.12.3)\n",
      "Requirement already satisfied: pycparser in /opt/homebrew/lib/python3.11/site-packages (from cffi<2.0.0,>=1.9->snowflake-connector-python) (2.21)\n"
     ]
    }
   ],
   "source": [
    "!pip3 install snowflake-connector-python"
   ]
  },
  {
   "cell_type": "code",
   "execution_count": 3,
   "id": "cc8dbba5-ab33-469f-8926-06d6c0505c5b",
   "metadata": {},
   "outputs": [],
   "source": [
    "import pandas as pd"
   ]
  },
  {
   "cell_type": "code",
   "execution_count": 4,
   "id": "64ba304d-f915-4df6-97d9-6be80c7817cd",
   "metadata": {},
   "outputs": [
    {
     "name": "stdout",
     "output_type": "stream",
     "text": [
      "('15905', 4260)\n",
      "('15906', 4256)\n",
      "('2515', 3939)\n",
      "('12507', 3932)\n",
      "('12515', 3932)\n",
      "('12508', 3930)\n",
      "('12516', 3930)\n",
      "('16317', 3769)\n",
      "('16318', 3765)\n",
      "('16687', 3663)\n"
     ]
    }
   ],
   "source": [
    "import snowflake.connector\n",
    "\n",
    "# Set your connection parameters\n",
    "user='************'\n",
    "password='************'\n",
    "account='************'\n",
    "warehouse='************'\n",
    "database='************'\n",
    "schema='************'\n",
    "\n",
    "try:\n",
    "    # Establish a connection\n",
    "    con = snowflake.connector.connect(\n",
    "        user=user,\n",
    "        password=password,\n",
    "        account=account,\n",
    "        warehouse=warehouse,\n",
    "        database=database,\n",
    "        schema=schema\n",
    "    )\n",
    "except Exception as e:\n",
    "    print(\"error: \", e)\n",
    "\n",
    "\n",
    "# Create a cursor\n",
    "cursor = con.cursor()\n",
    "\n",
    "# -- query to get top 10 trains covering the maximum distance \n",
    "cursor.execute(\"\"\"select train_no, distance\n",
    "from train_station\n",
    "where (train_no, SEQ) in (\n",
    "select train_no, FLOOR(max(SEQ), 0)\n",
    "from train_station\n",
    "group by train_no)\n",
    "order by distance desc limit 10;\"\"\")\n",
    "\n",
    "# Fetch the results\n",
    "results = cursor.fetchall()\n",
    "\n",
    "# check the results\n",
    "for row in results:\n",
    "    print(row)"
   ]
  },
  {
   "cell_type": "code",
   "execution_count": 5,
   "id": "c6c056db-7049-42ba-adbe-3e9a4f170ae4",
   "metadata": {},
   "outputs": [
    {
     "name": "stdout",
     "output_type": "stream",
     "text": [
      "  train_no  distance\n",
      "0    15905      4260\n",
      "1    15906      4256\n",
      "2     2515      3939\n",
      "3    12507      3932\n",
      "4    12515      3932\n",
      "5    12508      3930\n",
      "6    12516      3930\n",
      "7    16317      3769\n",
      "8    16318      3765\n",
      "9    16687      3663\n"
     ]
    }
   ],
   "source": [
    "# -- query to get top 10 trains covering the maximum distance \n",
    "cursor.execute(\"\"\"select train_no, distance\n",
    "from train_station\n",
    "where (train_no, SEQ) in (\n",
    "select train_no, max(SEQ)\n",
    "from train_station\n",
    "group by train_no)\n",
    "order by distance desc limit 10;\"\"\")\n",
    "\n",
    "# Fetch the results\n",
    "results = cursor.fetchall()\n",
    "\n",
    "# Convert the results to a Pandas DataFrame\n",
    "columns = [\"train_no\", \"distance\"]\n",
    "df = pd.DataFrame(results, columns=columns)\n",
    "print(df)"
   ]
  },
  {
   "cell_type": "code",
   "execution_count": 6,
   "id": "6e0006f0-a840-4f03-923b-1f7657a95fa7",
   "metadata": {},
   "outputs": [
    {
     "name": "stdout",
     "output_type": "stream",
     "text": [
      "  train_no  distance\n",
      "0    79488         1\n",
      "1    79486         1\n",
      "2    79487         1\n",
      "3    79489         1\n",
      "4    79490         1\n",
      "5    79485         1\n",
      "6    96015         2\n",
      "7    96016         2\n",
      "8    96002         2\n",
      "9    96009         2\n"
     ]
    }
   ],
   "source": [
    "# -- query to get top 10 trains covering the minimum distance \n",
    "cursor.execute(\"\"\"select train_no, distance\n",
    "from train_station\n",
    "where (train_no, SEQ) in (\n",
    "select train_no, max(SEQ)\n",
    "from train_station\n",
    "group by train_no)\n",
    "order by distance asc limit 10;\"\"\")\n",
    "\n",
    "# Fetch the results\n",
    "results = cursor.fetchall()\n",
    "\n",
    "# Convert the results to a Pandas DataFrame\n",
    "columns = [\"train_no\", \"distance\"]\n",
    "df = pd.DataFrame(results, columns=columns)\n",
    "print(df)"
   ]
  },
  {
   "cell_type": "code",
   "execution_count": 7,
   "id": "b15c47e1-5a98-4e9c-8b88-98644942d5e4",
   "metadata": {},
   "outputs": [
    {
     "name": "stdout",
     "output_type": "stream",
     "text": [
      "                   state  count_of_stations\n",
      "0          Uttar Pradesh                309\n",
      "1            Maharashtra                268\n",
      "2             Tamil Nadu                203\n",
      "3                  Assam                175\n",
      "4              Rajasthan                174\n",
      "5                Gujarat                164\n",
      "6         Andhra Pradesh                158\n",
      "7            West Bengal                153\n",
      "8         Madhya Pradesh                124\n",
      "9                  Bihar                113\n",
      "10             Karnataka                111\n",
      "11                Kerala                 84\n",
      "12               Haryana                 83\n",
      "13                Punjab                 77\n",
      "14                Odisha                 62\n",
      "15             Jharkhand                 58\n",
      "16             Telangana                 55\n",
      "17          Chhattisgarh                 34\n",
      "18     Jammu and Kashmir                 29\n",
      "19                 Delhi                 26\n",
      "20                   Goa                 20\n",
      "21           Uttarakhand                 20\n",
      "22      Himachal Pradesh                 15\n",
      "23               Tripura                  5\n",
      "24            Puducherry                  4\n",
      "25       Jammu & Kashmir                  4\n",
      "26            Tamil nadu                  2\n",
      "27              Gujarat|                  2\n",
      "28            Chandigarh                  1\n",
      "29             Meghalaya                  1\n",
      "30        Andhra pradesh                  1\n",
      "31               Manipur                  1\n",
      "32             Delhi NCT                  1\n",
      "33               Mizoram                  1\n",
      "34     Arunachal Pradesh                  1\n",
      "35           Pondicherry                  1\n",
      "36                 bihar                  1\n",
      "37              Nagaland                  1\n",
      "38         Uttar pradesh                  1\n",
      "39  Karnataka(Bangalore)                  1\n"
     ]
    }
   ],
   "source": [
    "# -- count of unique station codes by states\n",
    "cursor.execute(\"\"\"select state, count(DISTINCT(station_code)) \n",
    "from stations_info \n",
    "where state != '#N/A' and state != '0'\n",
    "group by state \n",
    "order by count(DISTINCT(station_code)) DESC;\"\"\")\n",
    "\n",
    "# Fetch the results\n",
    "results = cursor.fetchall()\n",
    "\n",
    "# Convert the results to a Pandas DataFrame\n",
    "columns = [\"state\", \"count_of_stations\"]\n",
    "df = pd.DataFrame(results, columns=columns)\n",
    "print(df)"
   ]
  },
  {
   "cell_type": "code",
   "execution_count": 8,
   "id": "005e1ce8-3703-44ba-9913-c16a5b3d8282",
   "metadata": {},
   "outputs": [
    {
     "name": "stdout",
     "output_type": "stream",
     "text": [
      "  station_code  busiest_station\n",
      "0         CSMT             1027\n",
      "1          KYN              828\n",
      "2          TNA              796\n",
      "3         SDAH              745\n",
      "4          MSB              738\n",
      "5          HWH              699\n",
      "6           DR              567\n",
      "7          DDJ              463\n",
      "8          CLA              462\n",
      "9          TBM              434\n"
     ]
    }
   ],
   "source": [
    "# -- finding busiest stations\n",
    "cursor.execute(\"\"\"select station_code, count(station_code)\n",
    "from train_station\n",
    "group by station_code\n",
    "order by count(station_code) desc limit 10;\"\"\")\n",
    "\n",
    "# Fetch the results\n",
    "results = cursor.fetchall()\n",
    "\n",
    "# Convert the results to a Pandas DataFrame\n",
    "columns = [\"station_code\", \"busiest_station\"]\n",
    "df = pd.DataFrame(results, columns=columns)\n",
    "print(df)"
   ]
  },
  {
   "cell_type": "code",
   "execution_count": 9,
   "id": "1e543145-da32-4ba9-890a-d3a20ca62e57",
   "metadata": {},
   "outputs": [
    {
     "name": "stdout",
     "output_type": "stream",
     "text": [
      "                   state  count_of_trains_running\n",
      "0            Maharashtra                     2696\n",
      "1            West Bengal                     2433\n",
      "2          Uttar Pradesh                     1853\n",
      "3             Tamil Nadu                     1803\n",
      "4         Andhra Pradesh                     1154\n",
      "5                  Bihar                     1016\n",
      "6         Madhya Pradesh                      858\n",
      "7              Rajasthan                      699\n",
      "8                  Delhi                      698\n",
      "9                Haryana                      692\n",
      "10               Gujarat                      686\n",
      "11             Karnataka                      675\n",
      "12             Jharkhand                      671\n",
      "13             Telangana                      628\n",
      "14                Punjab                      481\n",
      "15                Odisha                      474\n",
      "16             Delhi NCT                      355\n",
      "17                Kerala                      350\n",
      "18          Chhattisgarh                      278\n",
      "19                 Assam                      237\n",
      "20           Uttarakhand                      201\n",
      "21       Jammu & Kashmir                      139\n",
      "22                   Goa                      127\n",
      "23     Jammu and Kashmir                      117\n",
      "24            Tamil nadu                       85\n",
      "25            Puducherry                       82\n",
      "26            Chandigarh                       66\n",
      "27      Himachal Pradesh                       46\n",
      "28              Nagaland                       45\n",
      "29               Tripura                       26\n",
      "30                 bihar                       22\n",
      "31           Pondicherry                       12\n",
      "32              Gujarat|                       11\n",
      "33  Karnataka(Bangalore)                       10\n",
      "34         Uttar pradesh                       10\n",
      "35        Andhra pradesh                        7\n",
      "36     Arunachal Pradesh                        6\n",
      "37               Mizoram                        2\n",
      "38             Meghalaya                        2\n",
      "39               Manipur                        2\n"
     ]
    }
   ],
   "source": [
    "# -- count of distinct trains running in each state\n",
    "cursor.execute(\"\"\"select s.state, count(distinct(st.train_no))\n",
    "from stations_info s\n",
    "join train_station st on s.station_code = st.station_code\n",
    "where s.state != '#N/A' and s.state != '0'\n",
    "group by s.state\n",
    "order by count(distinct(st.train_no)) desc;\"\"\")\n",
    "\n",
    "# Fetch the results\n",
    "results = cursor.fetchall()\n",
    "\n",
    "# Convert the results to a Pandas DataFrame\n",
    "columns = [\"state\", \"count_of_trains_running\"]\n",
    "df = pd.DataFrame(results, columns=columns)\n",
    "print(df)"
   ]
  },
  {
   "cell_type": "code",
   "execution_count": 10,
   "id": "15708155-607f-46eb-b1a7-31b6fdd574c7",
   "metadata": {},
   "outputs": [
    {
     "name": "stdout",
     "output_type": "stream",
     "text": [
      "  station_code  count_of_trains_running\n",
      "0         CSMT                     1027\n",
      "1          KYN                      828\n",
      "2          TNA                      796\n",
      "3         SDAH                      745\n",
      "4          MSB                      738\n",
      "5          HWH                      699\n",
      "6           DR                      567\n",
      "7          DDJ                      463\n",
      "8          CLA                      462\n",
      "9          TBM                      434\n"
     ]
    }
   ],
   "source": [
    "# -- count of distinct trains that come to any particular stations\n",
    "cursor.execute(\"\"\"select station_code, count(distinct(train_no))\n",
    "from train_station\n",
    "group by station_code\n",
    "order by count(distinct(train_no)) desc limit 10;\"\"\")\n",
    "\n",
    "# Fetch the results\n",
    "results = cursor.fetchall()\n",
    "\n",
    "# Convert the results to a Pandas DataFrame\n",
    "columns = [\"station_code\", \"count_of_trains_running\"]\n",
    "df = pd.DataFrame(results, columns=columns)\n",
    "print(df)"
   ]
  },
  {
   "cell_type": "code",
   "execution_count": 11,
   "id": "b3078008-3993-4e3d-9bda-fed01ae2fe52",
   "metadata": {},
   "outputs": [
    {
     "name": "stdout",
     "output_type": "stream",
     "text": [
      "          sequence station_code  station_name  arr_time depart_time\n",
      "train_no                                                           \n",
      "19571            1          RJT        RAJKOT  07:15:00    07:15:00\n",
      "19571            2         BKNG   BHAKTINAGAR  07:25:00    07:26:00\n",
      "19571            3          GDL        GONDAL  08:04:00    08:05:00\n",
      "19571            4          VRR        VIRPUR  08:35:00    08:36:00\n",
      "19571            5          NUD      NAVAGADH  08:48:00    08:49:00\n",
      "19571            6          JLR   JETALSAR JN  09:00:00    09:15:00\n",
      "19571            7          DJI       DHORAJI  09:34:00    09:35:00\n",
      "19571            8           UA        UPLETA  10:05:00    10:06:00\n",
      "19571            9          BHY    BHAYAVADAR  10:17:00    10:18:00\n",
      "19571           10          PLM   PANELI MOTI  10:27:00    10:28:00\n",
      "19571           11          JDH   JAM JODHPUR  10:41:00    10:42:00\n",
      "19571           12          WAB         BALWA  10:49:00    10:50:00\n",
      "19571           13          WSJ  WANSJALIYA J  11:02:00    11:04:00\n",
      "19571           14          RWO       RANAVAV  11:21:00    11:22:00\n",
      "19571           15          PBR     PORBANDAR  11:55:00    11:55:00\n"
     ]
    }
   ],
   "source": [
    "# -- get trains route by station\n",
    "cursor.execute(\"\"\"select ts.train_no, ts.SEQ, ts.station_code, s.station_name, ts.arrival_time, ts.departure_time\n",
    "from train_station ts\n",
    "JOIN train_info t on t.train_no = ts.train_no\n",
    "JOIN stations_info s on s.station_code = ts.station_code\n",
    "where ts.train_no = '19571'\n",
    "order by ts.SEQ;\"\"\")\n",
    "\n",
    "# Fetch the results\n",
    "results = cursor.fetchall()\n",
    "\n",
    "# Convert the results to a Pandas DataFrame\n",
    "columns = [\"train_no\", \"sequence\", \"station_code\", \"station_name\", \"arr_time\", \"depart_time\"]\n",
    "df = pd.DataFrame(results, columns=columns)\n",
    "df.set_index(\"train_no\", inplace=True)\n",
    "print(df)"
   ]
  },
  {
   "cell_type": "code",
   "execution_count": null,
   "id": "f4056528-493a-4833-9b3c-6d4915b07d3d",
   "metadata": {},
   "outputs": [],
   "source": []
  }
 ],
 "metadata": {
  "kernelspec": {
   "display_name": "Python 3 (ipykernel)",
   "language": "python",
   "name": "python3"
  },
  "language_info": {
   "codemirror_mode": {
    "name": "ipython",
    "version": 3
   },
   "file_extension": ".py",
   "mimetype": "text/x-python",
   "name": "python",
   "nbconvert_exporter": "python",
   "pygments_lexer": "ipython3",
   "version": "3.11.6"
  }
 },
 "nbformat": 4,
 "nbformat_minor": 5
}
